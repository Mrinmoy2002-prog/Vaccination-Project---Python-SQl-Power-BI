{
 "cells": [
  {
   "cell_type": "code",
   "execution_count": 1,
   "id": "8d802e28",
   "metadata": {},
   "outputs": [],
   "source": [
    "import pandas as pd\n",
    "import numpy as np\n",
    "import matplotlib.pyplot as plt"
   ]
  },
  {
   "cell_type": "code",
   "execution_count": 2,
   "id": "d9bc1990",
   "metadata": {},
   "outputs": [],
   "source": [
    "tab1 = pd.read_excel('C:/Users/mrinm/OneDrive/Desktop/Vaccination-Project---Python-SQl-Power-BI/coverage-data.xlsx')\n"
   ]
  },
  {
   "cell_type": "code",
   "execution_count": 3,
   "id": "dfbc79bc",
   "metadata": {},
   "outputs": [],
   "source": [
    "tab2 = pd.read_excel('incidence-rate-data.xlsx')\n",
    "tab3 = pd.read_excel('reported-cases-data.xlsx')\n",
    "tab4 = pd.read_excel('vaccine-introduction-data.xlsx')\n",
    "tab5 = pd.read_excel('vaccine-schedule-data.xlsx')\n"
   ]
  },
  {
   "cell_type": "code",
   "execution_count": 4,
   "id": "20c6caba",
   "metadata": {},
   "outputs": [
    {
     "data": {
      "text/html": [
       "<div>\n",
       "<style scoped>\n",
       "    .dataframe tbody tr th:only-of-type {\n",
       "        vertical-align: middle;\n",
       "    }\n",
       "\n",
       "    .dataframe tbody tr th {\n",
       "        vertical-align: top;\n",
       "    }\n",
       "\n",
       "    .dataframe thead th {\n",
       "        text-align: right;\n",
       "    }\n",
       "</style>\n",
       "<table border=\"1\" class=\"dataframe\">\n",
       "  <thead>\n",
       "    <tr style=\"text-align: right;\">\n",
       "      <th></th>\n",
       "      <th>GROUP</th>\n",
       "      <th>CODE</th>\n",
       "      <th>NAME</th>\n",
       "      <th>YEAR</th>\n",
       "      <th>ANTIGEN</th>\n",
       "      <th>ANTIGEN_DESCRIPTION</th>\n",
       "      <th>COVERAGE_CATEGORY</th>\n",
       "      <th>COVERAGE_CATEGORY_DESCRIPTION</th>\n",
       "      <th>TARGET_NUMBER</th>\n",
       "      <th>DOSES</th>\n",
       "      <th>COVERAGE</th>\n",
       "    </tr>\n",
       "  </thead>\n",
       "  <tbody>\n",
       "    <tr>\n",
       "      <th>0</th>\n",
       "      <td>COUNTRIES</td>\n",
       "      <td>ABW</td>\n",
       "      <td>Aruba</td>\n",
       "      <td>2023.0</td>\n",
       "      <td>BCG</td>\n",
       "      <td>BCG</td>\n",
       "      <td>ADMIN</td>\n",
       "      <td>Administrative coverage</td>\n",
       "      <td>NaN</td>\n",
       "      <td>NaN</td>\n",
       "      <td>NaN</td>\n",
       "    </tr>\n",
       "    <tr>\n",
       "      <th>1</th>\n",
       "      <td>COUNTRIES</td>\n",
       "      <td>ABW</td>\n",
       "      <td>Aruba</td>\n",
       "      <td>2023.0</td>\n",
       "      <td>BCG</td>\n",
       "      <td>BCG</td>\n",
       "      <td>OFFICIAL</td>\n",
       "      <td>Official coverage</td>\n",
       "      <td>NaN</td>\n",
       "      <td>NaN</td>\n",
       "      <td>NaN</td>\n",
       "    </tr>\n",
       "    <tr>\n",
       "      <th>2</th>\n",
       "      <td>COUNTRIES</td>\n",
       "      <td>ABW</td>\n",
       "      <td>Aruba</td>\n",
       "      <td>2023.0</td>\n",
       "      <td>DIPHCV4</td>\n",
       "      <td>Diphtheria-containing vaccine, 4th dose (1st b...</td>\n",
       "      <td>ADMIN</td>\n",
       "      <td>Administrative coverage</td>\n",
       "      <td>1044.0</td>\n",
       "      <td>945.0</td>\n",
       "      <td>90.52</td>\n",
       "    </tr>\n",
       "    <tr>\n",
       "      <th>3</th>\n",
       "      <td>COUNTRIES</td>\n",
       "      <td>ABW</td>\n",
       "      <td>Aruba</td>\n",
       "      <td>2023.0</td>\n",
       "      <td>DIPHCV4</td>\n",
       "      <td>Diphtheria-containing vaccine, 4th dose (1st b...</td>\n",
       "      <td>OFFICIAL</td>\n",
       "      <td>Official coverage</td>\n",
       "      <td>NaN</td>\n",
       "      <td>NaN</td>\n",
       "      <td>90.52</td>\n",
       "    </tr>\n",
       "    <tr>\n",
       "      <th>4</th>\n",
       "      <td>COUNTRIES</td>\n",
       "      <td>ABW</td>\n",
       "      <td>Aruba</td>\n",
       "      <td>2023.0</td>\n",
       "      <td>DIPHCV5</td>\n",
       "      <td>Diphtheria-containing vaccine, 5th dose (2nd b...</td>\n",
       "      <td>ADMIN</td>\n",
       "      <td>Administrative coverage</td>\n",
       "      <td>1219.0</td>\n",
       "      <td>1008.0</td>\n",
       "      <td>82.69</td>\n",
       "    </tr>\n",
       "  </tbody>\n",
       "</table>\n",
       "</div>"
      ],
      "text/plain": [
       "       GROUP CODE   NAME    YEAR  ANTIGEN  \\\n",
       "0  COUNTRIES  ABW  Aruba  2023.0      BCG   \n",
       "1  COUNTRIES  ABW  Aruba  2023.0      BCG   \n",
       "2  COUNTRIES  ABW  Aruba  2023.0  DIPHCV4   \n",
       "3  COUNTRIES  ABW  Aruba  2023.0  DIPHCV4   \n",
       "4  COUNTRIES  ABW  Aruba  2023.0  DIPHCV5   \n",
       "\n",
       "                                 ANTIGEN_DESCRIPTION COVERAGE_CATEGORY  \\\n",
       "0                                                BCG             ADMIN   \n",
       "1                                                BCG          OFFICIAL   \n",
       "2  Diphtheria-containing vaccine, 4th dose (1st b...             ADMIN   \n",
       "3  Diphtheria-containing vaccine, 4th dose (1st b...          OFFICIAL   \n",
       "4  Diphtheria-containing vaccine, 5th dose (2nd b...             ADMIN   \n",
       "\n",
       "  COVERAGE_CATEGORY_DESCRIPTION  TARGET_NUMBER   DOSES  COVERAGE  \n",
       "0       Administrative coverage            NaN     NaN       NaN  \n",
       "1             Official coverage            NaN     NaN       NaN  \n",
       "2       Administrative coverage         1044.0   945.0     90.52  \n",
       "3             Official coverage            NaN     NaN     90.52  \n",
       "4       Administrative coverage         1219.0  1008.0     82.69  "
      ]
     },
     "execution_count": 4,
     "metadata": {},
     "output_type": "execute_result"
    }
   ],
   "source": [
    "tab1.head()"
   ]
  },
  {
   "cell_type": "code",
   "execution_count": 5,
   "id": "8c0330c5",
   "metadata": {},
   "outputs": [
    {
     "data": {
      "text/html": [
       "<div>\n",
       "<style scoped>\n",
       "    .dataframe tbody tr th:only-of-type {\n",
       "        vertical-align: middle;\n",
       "    }\n",
       "\n",
       "    .dataframe tbody tr th {\n",
       "        vertical-align: top;\n",
       "    }\n",
       "\n",
       "    .dataframe thead th {\n",
       "        text-align: right;\n",
       "    }\n",
       "</style>\n",
       "<table border=\"1\" class=\"dataframe\">\n",
       "  <thead>\n",
       "    <tr style=\"text-align: right;\">\n",
       "      <th></th>\n",
       "      <th>GROUP</th>\n",
       "      <th>CODE</th>\n",
       "      <th>NAME</th>\n",
       "      <th>YEAR</th>\n",
       "      <th>DISEASE</th>\n",
       "      <th>DISEASE_DESCRIPTION</th>\n",
       "      <th>DENOMINATOR</th>\n",
       "      <th>INCIDENCE_RATE</th>\n",
       "    </tr>\n",
       "  </thead>\n",
       "  <tbody>\n",
       "    <tr>\n",
       "      <th>0</th>\n",
       "      <td>COUNTRIES</td>\n",
       "      <td>ABW</td>\n",
       "      <td>Aruba</td>\n",
       "      <td>2023.0</td>\n",
       "      <td>CRS</td>\n",
       "      <td>Congenital rubella syndrome</td>\n",
       "      <td>per 10,000 live births</td>\n",
       "      <td>0.0</td>\n",
       "    </tr>\n",
       "    <tr>\n",
       "      <th>1</th>\n",
       "      <td>COUNTRIES</td>\n",
       "      <td>ABW</td>\n",
       "      <td>Aruba</td>\n",
       "      <td>2023.0</td>\n",
       "      <td>DIPHTHERIA</td>\n",
       "      <td>Diphtheria</td>\n",
       "      <td>per 1,000,000 total population</td>\n",
       "      <td>0.0</td>\n",
       "    </tr>\n",
       "    <tr>\n",
       "      <th>2</th>\n",
       "      <td>COUNTRIES</td>\n",
       "      <td>ABW</td>\n",
       "      <td>Aruba</td>\n",
       "      <td>2023.0</td>\n",
       "      <td>INVASIVE_MENING</td>\n",
       "      <td>Invasive meningococcal disease</td>\n",
       "      <td>per 1,000,000 total population</td>\n",
       "      <td>9.3</td>\n",
       "    </tr>\n",
       "    <tr>\n",
       "      <th>3</th>\n",
       "      <td>COUNTRIES</td>\n",
       "      <td>ABW</td>\n",
       "      <td>Aruba</td>\n",
       "      <td>2023.0</td>\n",
       "      <td>MEASLES</td>\n",
       "      <td>Measles</td>\n",
       "      <td>per 1,000,000 total population</td>\n",
       "      <td>NaN</td>\n",
       "    </tr>\n",
       "    <tr>\n",
       "      <th>4</th>\n",
       "      <td>COUNTRIES</td>\n",
       "      <td>ABW</td>\n",
       "      <td>Aruba</td>\n",
       "      <td>2023.0</td>\n",
       "      <td>MUMPS</td>\n",
       "      <td>Mumps</td>\n",
       "      <td>per 1,000,000 total population</td>\n",
       "      <td>0.0</td>\n",
       "    </tr>\n",
       "  </tbody>\n",
       "</table>\n",
       "</div>"
      ],
      "text/plain": [
       "       GROUP CODE   NAME    YEAR          DISEASE  \\\n",
       "0  COUNTRIES  ABW  Aruba  2023.0              CRS   \n",
       "1  COUNTRIES  ABW  Aruba  2023.0       DIPHTHERIA   \n",
       "2  COUNTRIES  ABW  Aruba  2023.0  INVASIVE_MENING   \n",
       "3  COUNTRIES  ABW  Aruba  2023.0          MEASLES   \n",
       "4  COUNTRIES  ABW  Aruba  2023.0            MUMPS   \n",
       "\n",
       "              DISEASE_DESCRIPTION                     DENOMINATOR  \\\n",
       "0     Congenital rubella syndrome          per 10,000 live births   \n",
       "1                      Diphtheria  per 1,000,000 total population   \n",
       "2  Invasive meningococcal disease  per 1,000,000 total population   \n",
       "3                         Measles  per 1,000,000 total population   \n",
       "4                           Mumps  per 1,000,000 total population   \n",
       "\n",
       "   INCIDENCE_RATE  \n",
       "0             0.0  \n",
       "1             0.0  \n",
       "2             9.3  \n",
       "3             NaN  \n",
       "4             0.0  "
      ]
     },
     "execution_count": 5,
     "metadata": {},
     "output_type": "execute_result"
    }
   ],
   "source": [
    "tab2.head()"
   ]
  },
  {
   "cell_type": "code",
   "execution_count": 6,
   "id": "460d5c96",
   "metadata": {},
   "outputs": [
    {
     "data": {
      "text/html": [
       "<div>\n",
       "<style scoped>\n",
       "    .dataframe tbody tr th:only-of-type {\n",
       "        vertical-align: middle;\n",
       "    }\n",
       "\n",
       "    .dataframe tbody tr th {\n",
       "        vertical-align: top;\n",
       "    }\n",
       "\n",
       "    .dataframe thead th {\n",
       "        text-align: right;\n",
       "    }\n",
       "</style>\n",
       "<table border=\"1\" class=\"dataframe\">\n",
       "  <thead>\n",
       "    <tr style=\"text-align: right;\">\n",
       "      <th></th>\n",
       "      <th>GROUP</th>\n",
       "      <th>CODE</th>\n",
       "      <th>NAME</th>\n",
       "      <th>YEAR</th>\n",
       "      <th>DISEASE</th>\n",
       "      <th>DISEASE_DESCRIPTION</th>\n",
       "      <th>CASES</th>\n",
       "    </tr>\n",
       "  </thead>\n",
       "  <tbody>\n",
       "    <tr>\n",
       "      <th>0</th>\n",
       "      <td>COUNTRIES</td>\n",
       "      <td>ABW</td>\n",
       "      <td>Aruba</td>\n",
       "      <td>2023.0</td>\n",
       "      <td>CRS</td>\n",
       "      <td>Congenital rubella syndrome</td>\n",
       "      <td>0.0</td>\n",
       "    </tr>\n",
       "    <tr>\n",
       "      <th>1</th>\n",
       "      <td>COUNTRIES</td>\n",
       "      <td>ABW</td>\n",
       "      <td>Aruba</td>\n",
       "      <td>2023.0</td>\n",
       "      <td>DIPHTHERIA</td>\n",
       "      <td>Diphtheria</td>\n",
       "      <td>0.0</td>\n",
       "    </tr>\n",
       "    <tr>\n",
       "      <th>2</th>\n",
       "      <td>COUNTRIES</td>\n",
       "      <td>ABW</td>\n",
       "      <td>Aruba</td>\n",
       "      <td>2023.0</td>\n",
       "      <td>INVASIVE_MENING</td>\n",
       "      <td>Invasive meningococcal disease</td>\n",
       "      <td>1.0</td>\n",
       "    </tr>\n",
       "    <tr>\n",
       "      <th>3</th>\n",
       "      <td>COUNTRIES</td>\n",
       "      <td>ABW</td>\n",
       "      <td>Aruba</td>\n",
       "      <td>2023.0</td>\n",
       "      <td>MEASLES</td>\n",
       "      <td>Measles</td>\n",
       "      <td>NaN</td>\n",
       "    </tr>\n",
       "    <tr>\n",
       "      <th>4</th>\n",
       "      <td>COUNTRIES</td>\n",
       "      <td>ABW</td>\n",
       "      <td>Aruba</td>\n",
       "      <td>2023.0</td>\n",
       "      <td>MUMPS</td>\n",
       "      <td>Mumps</td>\n",
       "      <td>0.0</td>\n",
       "    </tr>\n",
       "  </tbody>\n",
       "</table>\n",
       "</div>"
      ],
      "text/plain": [
       "       GROUP CODE   NAME    YEAR          DISEASE  \\\n",
       "0  COUNTRIES  ABW  Aruba  2023.0              CRS   \n",
       "1  COUNTRIES  ABW  Aruba  2023.0       DIPHTHERIA   \n",
       "2  COUNTRIES  ABW  Aruba  2023.0  INVASIVE_MENING   \n",
       "3  COUNTRIES  ABW  Aruba  2023.0          MEASLES   \n",
       "4  COUNTRIES  ABW  Aruba  2023.0            MUMPS   \n",
       "\n",
       "              DISEASE_DESCRIPTION  CASES  \n",
       "0     Congenital rubella syndrome    0.0  \n",
       "1                      Diphtheria    0.0  \n",
       "2  Invasive meningococcal disease    1.0  \n",
       "3                         Measles    NaN  \n",
       "4                           Mumps    0.0  "
      ]
     },
     "execution_count": 6,
     "metadata": {},
     "output_type": "execute_result"
    }
   ],
   "source": [
    "tab3.head()"
   ]
  },
  {
   "cell_type": "code",
   "execution_count": 7,
   "id": "a06d0dfc",
   "metadata": {},
   "outputs": [
    {
     "data": {
      "text/html": [
       "<div>\n",
       "<style scoped>\n",
       "    .dataframe tbody tr th:only-of-type {\n",
       "        vertical-align: middle;\n",
       "    }\n",
       "\n",
       "    .dataframe tbody tr th {\n",
       "        vertical-align: top;\n",
       "    }\n",
       "\n",
       "    .dataframe thead th {\n",
       "        text-align: right;\n",
       "    }\n",
       "</style>\n",
       "<table border=\"1\" class=\"dataframe\">\n",
       "  <thead>\n",
       "    <tr style=\"text-align: right;\">\n",
       "      <th></th>\n",
       "      <th>ISO_3_CODE</th>\n",
       "      <th>COUNTRYNAME</th>\n",
       "      <th>WHO_REGION</th>\n",
       "      <th>YEAR</th>\n",
       "      <th>DESCRIPTION</th>\n",
       "      <th>INTRO</th>\n",
       "    </tr>\n",
       "  </thead>\n",
       "  <tbody>\n",
       "    <tr>\n",
       "      <th>0</th>\n",
       "      <td>AFG</td>\n",
       "      <td>Afghanistan</td>\n",
       "      <td>EMRO</td>\n",
       "      <td>2023.0</td>\n",
       "      <td>aP (acellular pertussis) vaccine</td>\n",
       "      <td>No</td>\n",
       "    </tr>\n",
       "    <tr>\n",
       "      <th>1</th>\n",
       "      <td>AFG</td>\n",
       "      <td>Afghanistan</td>\n",
       "      <td>EMRO</td>\n",
       "      <td>2023.0</td>\n",
       "      <td>Hepatitis A vaccine</td>\n",
       "      <td>No</td>\n",
       "    </tr>\n",
       "    <tr>\n",
       "      <th>2</th>\n",
       "      <td>AFG</td>\n",
       "      <td>Afghanistan</td>\n",
       "      <td>EMRO</td>\n",
       "      <td>2023.0</td>\n",
       "      <td>Hepatitis B vaccine</td>\n",
       "      <td>Yes</td>\n",
       "    </tr>\n",
       "    <tr>\n",
       "      <th>3</th>\n",
       "      <td>AFG</td>\n",
       "      <td>Afghanistan</td>\n",
       "      <td>EMRO</td>\n",
       "      <td>2023.0</td>\n",
       "      <td>HepB birth dose</td>\n",
       "      <td>Yes</td>\n",
       "    </tr>\n",
       "    <tr>\n",
       "      <th>4</th>\n",
       "      <td>AFG</td>\n",
       "      <td>Afghanistan</td>\n",
       "      <td>EMRO</td>\n",
       "      <td>2023.0</td>\n",
       "      <td>Hib (Haemophilus influenzae type B) vaccine</td>\n",
       "      <td>Yes</td>\n",
       "    </tr>\n",
       "  </tbody>\n",
       "</table>\n",
       "</div>"
      ],
      "text/plain": [
       "  ISO_3_CODE  COUNTRYNAME WHO_REGION    YEAR  \\\n",
       "0        AFG  Afghanistan       EMRO  2023.0   \n",
       "1        AFG  Afghanistan       EMRO  2023.0   \n",
       "2        AFG  Afghanistan       EMRO  2023.0   \n",
       "3        AFG  Afghanistan       EMRO  2023.0   \n",
       "4        AFG  Afghanistan       EMRO  2023.0   \n",
       "\n",
       "                                   DESCRIPTION INTRO  \n",
       "0             aP (acellular pertussis) vaccine    No  \n",
       "1                          Hepatitis A vaccine    No  \n",
       "2                          Hepatitis B vaccine   Yes  \n",
       "3                              HepB birth dose   Yes  \n",
       "4  Hib (Haemophilus influenzae type B) vaccine   Yes  "
      ]
     },
     "execution_count": 7,
     "metadata": {},
     "output_type": "execute_result"
    }
   ],
   "source": [
    "tab4.head()"
   ]
  },
  {
   "cell_type": "code",
   "execution_count": 8,
   "id": "10dc878f",
   "metadata": {},
   "outputs": [
    {
     "data": {
      "text/html": [
       "<div>\n",
       "<style scoped>\n",
       "    .dataframe tbody tr th:only-of-type {\n",
       "        vertical-align: middle;\n",
       "    }\n",
       "\n",
       "    .dataframe tbody tr th {\n",
       "        vertical-align: top;\n",
       "    }\n",
       "\n",
       "    .dataframe thead th {\n",
       "        text-align: right;\n",
       "    }\n",
       "</style>\n",
       "<table border=\"1\" class=\"dataframe\">\n",
       "  <thead>\n",
       "    <tr style=\"text-align: right;\">\n",
       "      <th></th>\n",
       "      <th>ISO_3_CODE</th>\n",
       "      <th>COUNTRYNAME</th>\n",
       "      <th>WHO_REGION</th>\n",
       "      <th>YEAR</th>\n",
       "      <th>VACCINECODE</th>\n",
       "      <th>VACCINE_DESCRIPTION</th>\n",
       "      <th>SCHEDULEROUNDS</th>\n",
       "      <th>TARGETPOP</th>\n",
       "      <th>TARGETPOP_DESCRIPTION</th>\n",
       "      <th>GEOAREA</th>\n",
       "      <th>AGEADMINISTERED</th>\n",
       "      <th>SOURCECOMMENT</th>\n",
       "    </tr>\n",
       "  </thead>\n",
       "  <tbody>\n",
       "    <tr>\n",
       "      <th>0</th>\n",
       "      <td>ABW</td>\n",
       "      <td>Aruba</td>\n",
       "      <td>AMRO</td>\n",
       "      <td>2023.0</td>\n",
       "      <td>DTAPHIBIPV</td>\n",
       "      <td>DTaP-Hib-IPV (acellular) vaccine</td>\n",
       "      <td>1.0</td>\n",
       "      <td>NaN</td>\n",
       "      <td>General/routine</td>\n",
       "      <td>NATIONAL</td>\n",
       "      <td>M2</td>\n",
       "      <td>NaN</td>\n",
       "    </tr>\n",
       "    <tr>\n",
       "      <th>1</th>\n",
       "      <td>ABW</td>\n",
       "      <td>Aruba</td>\n",
       "      <td>AMRO</td>\n",
       "      <td>2023.0</td>\n",
       "      <td>DTAPHIBIPV</td>\n",
       "      <td>DTaP-Hib-IPV (acellular) vaccine</td>\n",
       "      <td>2.0</td>\n",
       "      <td>NaN</td>\n",
       "      <td>General/routine</td>\n",
       "      <td>NATIONAL</td>\n",
       "      <td>M4</td>\n",
       "      <td>NaN</td>\n",
       "    </tr>\n",
       "    <tr>\n",
       "      <th>2</th>\n",
       "      <td>ABW</td>\n",
       "      <td>Aruba</td>\n",
       "      <td>AMRO</td>\n",
       "      <td>2023.0</td>\n",
       "      <td>DTAPHIBIPV</td>\n",
       "      <td>DTaP-Hib-IPV (acellular) vaccine</td>\n",
       "      <td>3.0</td>\n",
       "      <td>NaN</td>\n",
       "      <td>General/routine</td>\n",
       "      <td>NATIONAL</td>\n",
       "      <td>M6</td>\n",
       "      <td>NaN</td>\n",
       "    </tr>\n",
       "    <tr>\n",
       "      <th>3</th>\n",
       "      <td>ABW</td>\n",
       "      <td>Aruba</td>\n",
       "      <td>AMRO</td>\n",
       "      <td>2023.0</td>\n",
       "      <td>DTAPHIBIPV</td>\n",
       "      <td>DTaP-Hib-IPV (acellular) vaccine</td>\n",
       "      <td>4.0</td>\n",
       "      <td>B_2YL_W</td>\n",
       "      <td>General/routine</td>\n",
       "      <td>NATIONAL</td>\n",
       "      <td>M15</td>\n",
       "      <td>NaN</td>\n",
       "    </tr>\n",
       "    <tr>\n",
       "      <th>4</th>\n",
       "      <td>ABW</td>\n",
       "      <td>Aruba</td>\n",
       "      <td>AMRO</td>\n",
       "      <td>2023.0</td>\n",
       "      <td>DTAPIPV</td>\n",
       "      <td>DTaP-IPV (acellular) vaccine</td>\n",
       "      <td>5.0</td>\n",
       "      <td>B_CHILD_W</td>\n",
       "      <td>General/routine</td>\n",
       "      <td>NATIONAL</td>\n",
       "      <td>Y4</td>\n",
       "      <td>NaN</td>\n",
       "    </tr>\n",
       "  </tbody>\n",
       "</table>\n",
       "</div>"
      ],
      "text/plain": [
       "  ISO_3_CODE COUNTRYNAME WHO_REGION    YEAR VACCINECODE  \\\n",
       "0        ABW       Aruba       AMRO  2023.0  DTAPHIBIPV   \n",
       "1        ABW       Aruba       AMRO  2023.0  DTAPHIBIPV   \n",
       "2        ABW       Aruba       AMRO  2023.0  DTAPHIBIPV   \n",
       "3        ABW       Aruba       AMRO  2023.0  DTAPHIBIPV   \n",
       "4        ABW       Aruba       AMRO  2023.0     DTAPIPV   \n",
       "\n",
       "                VACCINE_DESCRIPTION  SCHEDULEROUNDS  TARGETPOP  \\\n",
       "0  DTaP-Hib-IPV (acellular) vaccine             1.0        NaN   \n",
       "1  DTaP-Hib-IPV (acellular) vaccine             2.0        NaN   \n",
       "2  DTaP-Hib-IPV (acellular) vaccine             3.0        NaN   \n",
       "3  DTaP-Hib-IPV (acellular) vaccine             4.0    B_2YL_W   \n",
       "4      DTaP-IPV (acellular) vaccine             5.0  B_CHILD_W   \n",
       "\n",
       "  TARGETPOP_DESCRIPTION   GEOAREA AGEADMINISTERED SOURCECOMMENT  \n",
       "0       General/routine  NATIONAL              M2           NaN  \n",
       "1       General/routine  NATIONAL              M4           NaN  \n",
       "2       General/routine  NATIONAL              M6           NaN  \n",
       "3       General/routine  NATIONAL             M15           NaN  \n",
       "4       General/routine  NATIONAL              Y4           NaN  "
      ]
     },
     "execution_count": 8,
     "metadata": {},
     "output_type": "execute_result"
    }
   ],
   "source": [
    "tab5.head()"
   ]
  },
  {
   "cell_type": "markdown",
   "id": "61672544",
   "metadata": {},
   "source": [
    "#### Checking for missing Values\n"
   ]
  },
  {
   "cell_type": "markdown",
   "id": "7e6bf7b1",
   "metadata": {},
   "source": [
    "##### For table 1\n"
   ]
  },
  {
   "cell_type": "code",
   "execution_count": 9,
   "id": "a0ad74e0",
   "metadata": {},
   "outputs": [],
   "source": [
    "# # First, drop rows where 'TARGET_NUMBER' is missing\n",
    "# tab1.dropna(subset=['TARGET_NUMBER'], inplace=True)"
   ]
  },
  {
   "cell_type": "code",
   "execution_count": 10,
   "id": "391938c3",
   "metadata": {},
   "outputs": [
    {
     "data": {
      "text/plain": [
       "np.int64(1)"
      ]
     },
     "execution_count": 10,
     "metadata": {},
     "output_type": "execute_result"
    }
   ],
   "source": [
    "tab1['ANTIGEN'].isnull().sum()"
   ]
  },
  {
   "cell_type": "code",
   "execution_count": 11,
   "id": "2362beae",
   "metadata": {},
   "outputs": [
    {
     "data": {
      "text/plain": [
       "np.int64(1)"
      ]
     },
     "execution_count": 11,
     "metadata": {},
     "output_type": "execute_result"
    }
   ],
   "source": [
    "tab1['ANTIGEN_DESCRIPTION'].isnull().sum()"
   ]
  },
  {
   "cell_type": "code",
   "execution_count": 12,
   "id": "37676712",
   "metadata": {},
   "outputs": [
    {
     "data": {
      "text/plain": [
       "np.int64(1)"
      ]
     },
     "execution_count": 12,
     "metadata": {},
     "output_type": "execute_result"
    }
   ],
   "source": [
    "tab1['CODE'].isnull().sum()"
   ]
  },
  {
   "cell_type": "code",
   "execution_count": 13,
   "id": "f8e1e236",
   "metadata": {},
   "outputs": [
    {
     "data": {
      "text/plain": [
       "np.int64(169382)"
      ]
     },
     "execution_count": 13,
     "metadata": {},
     "output_type": "execute_result"
    }
   ],
   "source": [
    "tab1['COVERAGE'].isnull().sum()"
   ]
  },
  {
   "cell_type": "code",
   "execution_count": 14,
   "id": "dd80a132",
   "metadata": {},
   "outputs": [
    {
     "data": {
      "text/plain": [
       "np.int64(1)"
      ]
     },
     "execution_count": 14,
     "metadata": {},
     "output_type": "execute_result"
    }
   ],
   "source": [
    "tab1['COVERAGE_CATEGORY'].isnull().sum()"
   ]
  },
  {
   "cell_type": "code",
   "execution_count": 15,
   "id": "c780b219",
   "metadata": {},
   "outputs": [
    {
     "data": {
      "text/plain": [
       "np.int64(1)"
      ]
     },
     "execution_count": 15,
     "metadata": {},
     "output_type": "execute_result"
    }
   ],
   "source": [
    "tab1['COVERAGE_CATEGORY_DESCRIPTION'].isnull().sum()"
   ]
  },
  {
   "cell_type": "code",
   "execution_count": 16,
   "id": "c7f2d228",
   "metadata": {},
   "outputs": [
    {
     "data": {
      "text/plain": [
       "np.int64(320532)"
      ]
     },
     "execution_count": 16,
     "metadata": {},
     "output_type": "execute_result"
    }
   ],
   "source": [
    "tab1['DOSES'].isnull().sum()"
   ]
  },
  {
   "cell_type": "code",
   "execution_count": 17,
   "id": "28ea4b76",
   "metadata": {},
   "outputs": [
    {
     "data": {
      "text/plain": [
       "np.int64(0)"
      ]
     },
     "execution_count": 17,
     "metadata": {},
     "output_type": "execute_result"
    }
   ],
   "source": [
    "tab1['GROUP'].isnull().sum()"
   ]
  },
  {
   "cell_type": "code",
   "execution_count": 18,
   "id": "7f21d2a2",
   "metadata": {},
   "outputs": [
    {
     "data": {
      "text/plain": [
       "np.int64(1275)"
      ]
     },
     "execution_count": 18,
     "metadata": {},
     "output_type": "execute_result"
    }
   ],
   "source": [
    "tab1['NAME'].isnull().sum()"
   ]
  },
  {
   "cell_type": "code",
   "execution_count": 19,
   "id": "2f16524b",
   "metadata": {},
   "outputs": [
    {
     "data": {
      "text/plain": [
       "np.int64(1)"
      ]
     },
     "execution_count": 19,
     "metadata": {},
     "output_type": "execute_result"
    }
   ],
   "source": [
    "tab1['YEAR'].isnull().sum()"
   ]
  },
  {
   "cell_type": "code",
   "execution_count": 20,
   "id": "a65285bd",
   "metadata": {},
   "outputs": [
    {
     "data": {
      "text/html": [
       "<div>\n",
       "<style scoped>\n",
       "    .dataframe tbody tr th:only-of-type {\n",
       "        vertical-align: middle;\n",
       "    }\n",
       "\n",
       "    .dataframe tbody tr th {\n",
       "        vertical-align: top;\n",
       "    }\n",
       "\n",
       "    .dataframe thead th {\n",
       "        text-align: right;\n",
       "    }\n",
       "</style>\n",
       "<table border=\"1\" class=\"dataframe\">\n",
       "  <thead>\n",
       "    <tr style=\"text-align: right;\">\n",
       "      <th></th>\n",
       "      <th>GROUP</th>\n",
       "      <th>CODE</th>\n",
       "      <th>NAME</th>\n",
       "      <th>YEAR</th>\n",
       "      <th>ANTIGEN</th>\n",
       "      <th>ANTIGEN_DESCRIPTION</th>\n",
       "      <th>COVERAGE_CATEGORY</th>\n",
       "      <th>COVERAGE_CATEGORY_DESCRIPTION</th>\n",
       "      <th>TARGET_NUMBER</th>\n",
       "      <th>DOSES</th>\n",
       "      <th>COVERAGE</th>\n",
       "    </tr>\n",
       "  </thead>\n",
       "  <tbody>\n",
       "    <tr>\n",
       "      <th>0</th>\n",
       "      <td>COUNTRIES</td>\n",
       "      <td>ABW</td>\n",
       "      <td>Aruba</td>\n",
       "      <td>2023.0</td>\n",
       "      <td>BCG</td>\n",
       "      <td>BCG</td>\n",
       "      <td>ADMIN</td>\n",
       "      <td>Administrative coverage</td>\n",
       "      <td>NaN</td>\n",
       "      <td>NaN</td>\n",
       "      <td>NaN</td>\n",
       "    </tr>\n",
       "    <tr>\n",
       "      <th>1</th>\n",
       "      <td>COUNTRIES</td>\n",
       "      <td>ABW</td>\n",
       "      <td>Aruba</td>\n",
       "      <td>2023.0</td>\n",
       "      <td>BCG</td>\n",
       "      <td>BCG</td>\n",
       "      <td>OFFICIAL</td>\n",
       "      <td>Official coverage</td>\n",
       "      <td>NaN</td>\n",
       "      <td>NaN</td>\n",
       "      <td>NaN</td>\n",
       "    </tr>\n",
       "    <tr>\n",
       "      <th>2</th>\n",
       "      <td>COUNTRIES</td>\n",
       "      <td>ABW</td>\n",
       "      <td>Aruba</td>\n",
       "      <td>2023.0</td>\n",
       "      <td>DIPHCV4</td>\n",
       "      <td>Diphtheria-containing vaccine, 4th dose (1st b...</td>\n",
       "      <td>ADMIN</td>\n",
       "      <td>Administrative coverage</td>\n",
       "      <td>1044.0</td>\n",
       "      <td>945.0</td>\n",
       "      <td>90.52</td>\n",
       "    </tr>\n",
       "    <tr>\n",
       "      <th>3</th>\n",
       "      <td>COUNTRIES</td>\n",
       "      <td>ABW</td>\n",
       "      <td>Aruba</td>\n",
       "      <td>2023.0</td>\n",
       "      <td>DIPHCV4</td>\n",
       "      <td>Diphtheria-containing vaccine, 4th dose (1st b...</td>\n",
       "      <td>OFFICIAL</td>\n",
       "      <td>Official coverage</td>\n",
       "      <td>NaN</td>\n",
       "      <td>NaN</td>\n",
       "      <td>90.52</td>\n",
       "    </tr>\n",
       "    <tr>\n",
       "      <th>4</th>\n",
       "      <td>COUNTRIES</td>\n",
       "      <td>ABW</td>\n",
       "      <td>Aruba</td>\n",
       "      <td>2023.0</td>\n",
       "      <td>DIPHCV5</td>\n",
       "      <td>Diphtheria-containing vaccine, 5th dose (2nd b...</td>\n",
       "      <td>ADMIN</td>\n",
       "      <td>Administrative coverage</td>\n",
       "      <td>1219.0</td>\n",
       "      <td>1008.0</td>\n",
       "      <td>82.69</td>\n",
       "    </tr>\n",
       "  </tbody>\n",
       "</table>\n",
       "</div>"
      ],
      "text/plain": [
       "       GROUP CODE   NAME    YEAR  ANTIGEN  \\\n",
       "0  COUNTRIES  ABW  Aruba  2023.0      BCG   \n",
       "1  COUNTRIES  ABW  Aruba  2023.0      BCG   \n",
       "2  COUNTRIES  ABW  Aruba  2023.0  DIPHCV4   \n",
       "3  COUNTRIES  ABW  Aruba  2023.0  DIPHCV4   \n",
       "4  COUNTRIES  ABW  Aruba  2023.0  DIPHCV5   \n",
       "\n",
       "                                 ANTIGEN_DESCRIPTION COVERAGE_CATEGORY  \\\n",
       "0                                                BCG             ADMIN   \n",
       "1                                                BCG          OFFICIAL   \n",
       "2  Diphtheria-containing vaccine, 4th dose (1st b...             ADMIN   \n",
       "3  Diphtheria-containing vaccine, 4th dose (1st b...          OFFICIAL   \n",
       "4  Diphtheria-containing vaccine, 5th dose (2nd b...             ADMIN   \n",
       "\n",
       "  COVERAGE_CATEGORY_DESCRIPTION  TARGET_NUMBER   DOSES  COVERAGE  \n",
       "0       Administrative coverage            NaN     NaN       NaN  \n",
       "1             Official coverage            NaN     NaN       NaN  \n",
       "2       Administrative coverage         1044.0   945.0     90.52  \n",
       "3             Official coverage            NaN     NaN     90.52  \n",
       "4       Administrative coverage         1219.0  1008.0     82.69  "
      ]
     },
     "execution_count": 20,
     "metadata": {},
     "output_type": "execute_result"
    }
   ],
   "source": [
    "tab1.head(5)"
   ]
  },
  {
   "cell_type": "markdown",
   "id": "db1d1516",
   "metadata": {},
   "source": [
    "Also we are having 1275 missing values for the column 'NAME'. \n",
    "\n",
    "\n",
    "The most reliable method is to create a separate, clean reference table of Code and Name from your dataset."
   ]
  },
  {
   "cell_type": "code",
   "execution_count": 21,
   "id": "714da57e",
   "metadata": {},
   "outputs": [],
   "source": [
    "# Create a mapping of Code to Name\n",
    "code_to_name_mapping = tab1[['CODE','NAME']].dropna().drop_duplicates().set_index('CODE')['NAME']\n",
    "\n",
    "# Fill missing Name values using the mapping\n",
    "tab1['NAME'] = tab1['CODE'].map(code_to_name_mapping).fillna(tab1['NAME'])"
   ]
  },
  {
   "cell_type": "markdown",
   "id": "171d3ee1",
   "metadata": {},
   "source": [
    "Cannot find the names with code. So instead just setting the null 'NAME' values as 'Unknown Country'"
   ]
  },
  {
   "cell_type": "code",
   "execution_count": 22,
   "id": "1c587eff",
   "metadata": {},
   "outputs": [],
   "source": [
    "tab1['NAME'] = tab1['NAME'].fillna('Unknown Country')"
   ]
  },
  {
   "cell_type": "code",
   "execution_count": 23,
   "id": "75ce6498",
   "metadata": {},
   "outputs": [],
   "source": [
    "# # Impute missing 'COVERAGE' values with the median for the same Antigen and Year\n",
    "\n",
    "# grouped_data = tab1.groupby(['ANTIGEN', 'YEAR'])\n",
    "# coverage_groups = grouped_data['COVERAGE']\n",
    "# group_medians = coverage_groups.median()\n",
    "\n",
    "\n",
    "# def fill_with_median(x):\n",
    "#     return x.fillna(x.median())\n",
    "\n",
    "# # Now applying this function to each group\n",
    "# imputed_coverage = coverage_groups.transform(fill_with_median)\n",
    "\n",
    "# # Finally, assiging the new, imputed values back to the original column\n",
    "# tab1['COVERAGE'] = imputed_coverage"
   ]
  },
  {
   "cell_type": "code",
   "execution_count": 24,
   "id": "6d19038d",
   "metadata": {},
   "outputs": [
    {
     "data": {
      "text/plain": [
       "np.int64(169382)"
      ]
     },
     "execution_count": 24,
     "metadata": {},
     "output_type": "execute_result"
    }
   ],
   "source": [
    "tab1['COVERAGE'].isna().sum()"
   ]
  },
  {
   "cell_type": "code",
   "execution_count": 25,
   "id": "fd3f9cb7",
   "metadata": {},
   "outputs": [],
   "source": [
    "# # Impute missing 'DOSES' values with the median for the same Antigen and Year\n",
    "\n",
    "# grouped_data1 = tab1.groupby(['ANTIGEN', 'YEAR'])\n",
    "# coverage_from_grouped_data1 = grouped_data1['DOSES']\n",
    "# group_medians1 = coverage_from_grouped_data1.median()\n",
    "\n",
    "# # Now applying this function to each group\n",
    "# imputed_doses = coverage_from_grouped_data1.transform(fill_with_median)\n",
    "\n",
    "# # Finally, assiging the new, imputed values back to the original column\n",
    "# tab1['DOSES'] = imputed_doses\n"
   ]
  },
  {
   "cell_type": "code",
   "execution_count": 26,
   "id": "fa3c5b0b",
   "metadata": {},
   "outputs": [
    {
     "data": {
      "text/plain": [
       "np.int64(320532)"
      ]
     },
     "execution_count": 26,
     "metadata": {},
     "output_type": "execute_result"
    }
   ],
   "source": [
    "tab1['DOSES'].isna().sum()"
   ]
  },
  {
   "cell_type": "code",
   "execution_count": 27,
   "id": "bb710b16",
   "metadata": {},
   "outputs": [],
   "source": [
    "## 1. Clean and standardize column names\n",
    "tab1.rename(columns={\n",
    "    'Group': 'GROUP', 'Code': 'CODE', 'Name': 'NAME', 'Year': 'YEAR', 'Antigen': 'ANTIGEN',\n",
    "    'Antigen_description': 'ANTIGEN_DESCRIPTION', 'Coverage_category': 'COVERAGE_CATEGORY',\n",
    "    'Coverage_category_description': 'COVERAGE_CATEGORY_DESCRIPTION',\n",
    "    'Target number': 'TARGET_NUMBER', 'Dodge': 'DOSES', 'Coverage': 'COVERAGE'\n",
    "}, inplace=True)\n",
    "\n",
    "## 2. Handle missing values and data type conversions\n",
    "# Drop rows where a key column like 'TARGET_NUMBER' is missing\n",
    "tab1.dropna(subset=['TARGET_NUMBER'], inplace=True)\n",
    "\n",
    "# Impute missing values in COVERAGE and DOSES using group-based medians\n",
    "tab1['COVERAGE'] = tab1.groupby(['ANTIGEN', 'YEAR'])['COVERAGE'].transform(lambda x: x.fillna(x.median()))\n",
    "tab1['DOSES'] = tab1.groupby(['ANTIGEN', 'YEAR'])['DOSES'].transform(lambda x: x.fillna(x.median()))\n",
    "\n",
    "# Drop any remaining rows with missing COVERAGE or DOSES after imputation\n",
    "tab1.dropna(subset=['COVERAGE', 'DOSES'], inplace=True)\n",
    "\n",
    "# Handle data type conversions\n",
    "tab1['TARGET_NUMBER'] = tab1['TARGET_NUMBER'].astype(int).astype('Int64')\n",
    "tab1['DOSES'] = tab1['DOSES'].astype(int).astype('Int64')\n",
    "tab1['YEAR'] = tab1['YEAR'].astype(int)\n",
    "\n",
    "# tab1['NAME'] = tab1['NAME'].fillna('Unknown Country')\n",
    "\n",
    "# Drop the rows which are having missing values \n",
    "tab1 = tab1.dropna()"
   ]
  },
  {
   "cell_type": "markdown",
   "id": "1b75552a",
   "metadata": {},
   "source": [
    "##### For table 2\n"
   ]
  },
  {
   "cell_type": "code",
   "execution_count": 28,
   "id": "1267ada4",
   "metadata": {},
   "outputs": [
    {
     "data": {
      "text/plain": [
       "np.int64(1)"
      ]
     },
     "execution_count": 28,
     "metadata": {},
     "output_type": "execute_result"
    }
   ],
   "source": [
    "tab2['CODE'].isnull().sum()"
   ]
  },
  {
   "cell_type": "code",
   "execution_count": 29,
   "id": "0cb16ea1",
   "metadata": {},
   "outputs": [
    {
     "data": {
      "text/plain": [
       "np.int64(1)"
      ]
     },
     "execution_count": 29,
     "metadata": {},
     "output_type": "execute_result"
    }
   ],
   "source": [
    "tab2['DENOMINATOR'].isnull().sum()"
   ]
  },
  {
   "cell_type": "code",
   "execution_count": 30,
   "id": "afa12763",
   "metadata": {},
   "outputs": [
    {
     "data": {
      "text/plain": [
       "np.int64(1)"
      ]
     },
     "execution_count": 30,
     "metadata": {},
     "output_type": "execute_result"
    }
   ],
   "source": [
    "tab2['DISEASE'].isnull().sum()"
   ]
  },
  {
   "cell_type": "code",
   "execution_count": 31,
   "id": "722f02dd",
   "metadata": {},
   "outputs": [
    {
     "data": {
      "text/plain": [
       "np.int64(1)"
      ]
     },
     "execution_count": 31,
     "metadata": {},
     "output_type": "execute_result"
    }
   ],
   "source": [
    "tab2['DISEASE_DESCRIPTION'].isnull().sum()"
   ]
  },
  {
   "cell_type": "code",
   "execution_count": 32,
   "id": "e8c556f1",
   "metadata": {},
   "outputs": [
    {
     "data": {
      "text/plain": [
       "np.int64(0)"
      ]
     },
     "execution_count": 32,
     "metadata": {},
     "output_type": "execute_result"
    }
   ],
   "source": [
    "tab2['GROUP'].isnull().sum()"
   ]
  },
  {
   "cell_type": "code",
   "execution_count": 33,
   "id": "e6e29dfa",
   "metadata": {},
   "outputs": [
    {
     "data": {
      "text/plain": [
       "np.int64(23362)"
      ]
     },
     "execution_count": 33,
     "metadata": {},
     "output_type": "execute_result"
    }
   ],
   "source": [
    "tab2['INCIDENCE_RATE'].isnull().sum()"
   ]
  },
  {
   "cell_type": "code",
   "execution_count": 34,
   "id": "2f98dd32",
   "metadata": {},
   "outputs": [
    {
     "data": {
      "text/plain": [
       "np.int64(1)"
      ]
     },
     "execution_count": 34,
     "metadata": {},
     "output_type": "execute_result"
    }
   ],
   "source": [
    "tab2['NAME'].isnull().sum()"
   ]
  },
  {
   "cell_type": "code",
   "execution_count": 35,
   "id": "e0ebb619",
   "metadata": {},
   "outputs": [
    {
     "data": {
      "text/plain": [
       "np.int64(1)"
      ]
     },
     "execution_count": 35,
     "metadata": {},
     "output_type": "execute_result"
    }
   ],
   "source": [
    "tab2['YEAR'].isnull().sum()"
   ]
  },
  {
   "cell_type": "code",
   "execution_count": 36,
   "id": "23018946",
   "metadata": {},
   "outputs": [
    {
     "name": "stderr",
     "output_type": "stream",
     "text": [
      "C:\\Users\\mrinm\\AppData\\Local\\Temp\\ipykernel_16276\\2164821578.py:15: FutureWarning: A value is trying to be set on a copy of a DataFrame or Series through chained assignment using an inplace method.\n",
      "The behavior will change in pandas 3.0. This inplace method will never work because the intermediate object on which we are setting values always behaves as a copy.\n",
      "\n",
      "For example, when doing 'df[col].method(value, inplace=True)', try using 'df.method({col: value}, inplace=True)' or df[col] = df[col].method(value) instead, to perform the operation inplace on the original object.\n",
      "\n",
      "\n",
      "  tab2['INCIDENCE_RATE'].fillna(median_incindence_rate, inplace=True)\n"
     ]
    }
   ],
   "source": [
    "tab2.rename(columns={\n",
    "    'Group': 'GROUP',\n",
    "    'Code': 'CODE',\n",
    "    'Name': 'NAME',\n",
    "    'Year': 'YEAR',\n",
    "    'Disease': 'DISEASE',\n",
    "    'Disease description': 'DISEASE_DESCRIPTION',\n",
    "    'Denominator': 'DENOMINATOR',\n",
    "    'Incidence rate': 'INCIDENCE_RATE'\n",
    "}, inplace=True)\n",
    "\n",
    "## 2. Handle missing values and data type conversions\n",
    "# Impute missing values in INCIDENCE_RATE with the median\n",
    "median_incindence_rate = tab2['INCIDENCE_RATE'].median()\n",
    "tab2['INCIDENCE_RATE'].fillna(median_incindence_rate, inplace=True)\n",
    "\n",
    "\n",
    "# Drop rows with missing values in critical identifier columns\n",
    "tab2.dropna(subset=['CODE', 'NAME', 'YEAR'], inplace=True)\n",
    "tab2 = tab2.dropna()\n",
    "\n",
    "# Convert YEAR column to integer\n",
    "tab2['YEAR'] = tab2['YEAR'].astype(int)\n"
   ]
  },
  {
   "cell_type": "markdown",
   "id": "eca2a7d1",
   "metadata": {},
   "source": [
    "##### For table 3"
   ]
  },
  {
   "cell_type": "code",
   "execution_count": 37,
   "id": "196ceef2",
   "metadata": {},
   "outputs": [
    {
     "data": {
      "text/plain": [
       "(84870, 7)"
      ]
     },
     "execution_count": 37,
     "metadata": {},
     "output_type": "execute_result"
    }
   ],
   "source": [
    "tab3.shape"
   ]
  },
  {
   "cell_type": "code",
   "execution_count": 38,
   "id": "1c3d3d2e",
   "metadata": {},
   "outputs": [
    {
     "data": {
      "text/html": [
       "<div>\n",
       "<style scoped>\n",
       "    .dataframe tbody tr th:only-of-type {\n",
       "        vertical-align: middle;\n",
       "    }\n",
       "\n",
       "    .dataframe tbody tr th {\n",
       "        vertical-align: top;\n",
       "    }\n",
       "\n",
       "    .dataframe thead th {\n",
       "        text-align: right;\n",
       "    }\n",
       "</style>\n",
       "<table border=\"1\" class=\"dataframe\">\n",
       "  <thead>\n",
       "    <tr style=\"text-align: right;\">\n",
       "      <th></th>\n",
       "      <th>GROUP</th>\n",
       "      <th>CODE</th>\n",
       "      <th>NAME</th>\n",
       "      <th>YEAR</th>\n",
       "      <th>DISEASE</th>\n",
       "      <th>DISEASE_DESCRIPTION</th>\n",
       "      <th>CASES</th>\n",
       "    </tr>\n",
       "  </thead>\n",
       "  <tbody>\n",
       "    <tr>\n",
       "      <th>0</th>\n",
       "      <td>COUNTRIES</td>\n",
       "      <td>ABW</td>\n",
       "      <td>Aruba</td>\n",
       "      <td>2023.0</td>\n",
       "      <td>CRS</td>\n",
       "      <td>Congenital rubella syndrome</td>\n",
       "      <td>0.0</td>\n",
       "    </tr>\n",
       "    <tr>\n",
       "      <th>1</th>\n",
       "      <td>COUNTRIES</td>\n",
       "      <td>ABW</td>\n",
       "      <td>Aruba</td>\n",
       "      <td>2023.0</td>\n",
       "      <td>DIPHTHERIA</td>\n",
       "      <td>Diphtheria</td>\n",
       "      <td>0.0</td>\n",
       "    </tr>\n",
       "    <tr>\n",
       "      <th>2</th>\n",
       "      <td>COUNTRIES</td>\n",
       "      <td>ABW</td>\n",
       "      <td>Aruba</td>\n",
       "      <td>2023.0</td>\n",
       "      <td>INVASIVE_MENING</td>\n",
       "      <td>Invasive meningococcal disease</td>\n",
       "      <td>1.0</td>\n",
       "    </tr>\n",
       "    <tr>\n",
       "      <th>3</th>\n",
       "      <td>COUNTRIES</td>\n",
       "      <td>ABW</td>\n",
       "      <td>Aruba</td>\n",
       "      <td>2023.0</td>\n",
       "      <td>MEASLES</td>\n",
       "      <td>Measles</td>\n",
       "      <td>NaN</td>\n",
       "    </tr>\n",
       "    <tr>\n",
       "      <th>4</th>\n",
       "      <td>COUNTRIES</td>\n",
       "      <td>ABW</td>\n",
       "      <td>Aruba</td>\n",
       "      <td>2023.0</td>\n",
       "      <td>MUMPS</td>\n",
       "      <td>Mumps</td>\n",
       "      <td>0.0</td>\n",
       "    </tr>\n",
       "  </tbody>\n",
       "</table>\n",
       "</div>"
      ],
      "text/plain": [
       "       GROUP CODE   NAME    YEAR          DISEASE  \\\n",
       "0  COUNTRIES  ABW  Aruba  2023.0              CRS   \n",
       "1  COUNTRIES  ABW  Aruba  2023.0       DIPHTHERIA   \n",
       "2  COUNTRIES  ABW  Aruba  2023.0  INVASIVE_MENING   \n",
       "3  COUNTRIES  ABW  Aruba  2023.0          MEASLES   \n",
       "4  COUNTRIES  ABW  Aruba  2023.0            MUMPS   \n",
       "\n",
       "              DISEASE_DESCRIPTION  CASES  \n",
       "0     Congenital rubella syndrome    0.0  \n",
       "1                      Diphtheria    0.0  \n",
       "2  Invasive meningococcal disease    1.0  \n",
       "3                         Measles    NaN  \n",
       "4                           Mumps    0.0  "
      ]
     },
     "execution_count": 38,
     "metadata": {},
     "output_type": "execute_result"
    }
   ],
   "source": [
    "tab3.head(5)"
   ]
  },
  {
   "cell_type": "code",
   "execution_count": 39,
   "id": "0f8db71c",
   "metadata": {},
   "outputs": [
    {
     "data": {
      "text/plain": [
       "np.int64(19400)"
      ]
     },
     "execution_count": 39,
     "metadata": {},
     "output_type": "execute_result"
    }
   ],
   "source": [
    "tab3['CASES'].isnull().sum()"
   ]
  },
  {
   "cell_type": "markdown",
   "id": "66e025a0",
   "metadata": {},
   "source": [
    "We cannot replace with median or mean value for the cases column because the median would be 0 if we calculate and so it will mean that 19,400 countries are having 0 reported cases which is not correct at all and can lead to bias. "
   ]
  },
  {
   "cell_type": "markdown",
   "id": "2a17fd60",
   "metadata": {},
   "source": [
    "So its better to drop the rows with missing values\n"
   ]
  },
  {
   "cell_type": "code",
   "execution_count": 40,
   "id": "2369ac46",
   "metadata": {},
   "outputs": [],
   "source": [
    "# tab3 = tab3.dropna(subsets=['CASES'],inplace=True)"
   ]
  },
  {
   "cell_type": "code",
   "execution_count": 41,
   "id": "54f2ed06",
   "metadata": {},
   "outputs": [
    {
     "data": {
      "text/plain": [
       "np.int64(1)"
      ]
     },
     "execution_count": 41,
     "metadata": {},
     "output_type": "execute_result"
    }
   ],
   "source": [
    "tab3['CODE'].isnull().sum()"
   ]
  },
  {
   "cell_type": "code",
   "execution_count": 42,
   "id": "ccb14532",
   "metadata": {},
   "outputs": [
    {
     "data": {
      "text/plain": [
       "np.int64(1)"
      ]
     },
     "execution_count": 42,
     "metadata": {},
     "output_type": "execute_result"
    }
   ],
   "source": [
    "tab3['DISEASE'].isnull().sum()"
   ]
  },
  {
   "cell_type": "code",
   "execution_count": 43,
   "id": "fa69b191",
   "metadata": {},
   "outputs": [
    {
     "data": {
      "text/plain": [
       "np.int64(1)"
      ]
     },
     "execution_count": 43,
     "metadata": {},
     "output_type": "execute_result"
    }
   ],
   "source": [
    "tab3['DISEASE_DESCRIPTION'].isnull().sum()"
   ]
  },
  {
   "cell_type": "code",
   "execution_count": 44,
   "id": "07ba59ce",
   "metadata": {},
   "outputs": [
    {
     "data": {
      "text/plain": [
       "np.int64(0)"
      ]
     },
     "execution_count": 44,
     "metadata": {},
     "output_type": "execute_result"
    }
   ],
   "source": [
    "tab3['GROUP'].isnull().sum()"
   ]
  },
  {
   "cell_type": "code",
   "execution_count": 45,
   "id": "ba9ffbeb",
   "metadata": {},
   "outputs": [
    {
     "data": {
      "text/plain": [
       "np.int64(1)"
      ]
     },
     "execution_count": 45,
     "metadata": {},
     "output_type": "execute_result"
    }
   ],
   "source": [
    "tab3['NAME'].isnull().sum()"
   ]
  },
  {
   "cell_type": "code",
   "execution_count": 46,
   "id": "5f19d5ec",
   "metadata": {},
   "outputs": [
    {
     "data": {
      "text/plain": [
       "np.int64(1)"
      ]
     },
     "execution_count": 46,
     "metadata": {},
     "output_type": "execute_result"
    }
   ],
   "source": [
    "tab3['YEAR'].isnull().sum()"
   ]
  },
  {
   "cell_type": "code",
   "execution_count": null,
   "id": "b8eda544",
   "metadata": {},
   "outputs": [],
   "source": [
    "## 1. Clean and standardize column names\n",
    "tab3.rename(columns={\n",
    "    'Group': 'GROUP',\n",
    "    'Code': 'CODE',\n",
    "    'Name': 'NAME',\n",
    "    'Year': 'YEAR',\n",
    "    'Disease': 'DISEASE',\n",
    "    'Disease description': 'DISEASE_DESCRIPTION',\n",
    "    'Cases': 'CASES'\n",
    "}, inplace=True)\n",
    "\n",
    "# Drop rows where the columns has a missing value\n",
    "tab3.dropna(subset=['CASES','YEAR','NAME','DISEASE_DESCRIPTION','DISEASE','CODE'],inplace=True)\n",
    "\n",
    "# Handle data type conversion\n",
    "tab3['YEAR'] = tab3['YEAR'].astype(int)"
   ]
  },
  {
   "cell_type": "markdown",
   "id": "cf18510b",
   "metadata": {},
   "source": [
    "##### For Table 4"
   ]
  },
  {
   "cell_type": "code",
   "execution_count": 48,
   "id": "65868e56",
   "metadata": {},
   "outputs": [
    {
     "data": {
      "text/html": [
       "<div>\n",
       "<style scoped>\n",
       "    .dataframe tbody tr th:only-of-type {\n",
       "        vertical-align: middle;\n",
       "    }\n",
       "\n",
       "    .dataframe tbody tr th {\n",
       "        vertical-align: top;\n",
       "    }\n",
       "\n",
       "    .dataframe thead th {\n",
       "        text-align: right;\n",
       "    }\n",
       "</style>\n",
       "<table border=\"1\" class=\"dataframe\">\n",
       "  <thead>\n",
       "    <tr style=\"text-align: right;\">\n",
       "      <th></th>\n",
       "      <th>ISO_3_CODE</th>\n",
       "      <th>COUNTRYNAME</th>\n",
       "      <th>WHO_REGION</th>\n",
       "      <th>YEAR</th>\n",
       "      <th>DESCRIPTION</th>\n",
       "      <th>INTRO</th>\n",
       "    </tr>\n",
       "  </thead>\n",
       "  <tbody>\n",
       "    <tr>\n",
       "      <th>0</th>\n",
       "      <td>AFG</td>\n",
       "      <td>Afghanistan</td>\n",
       "      <td>EMRO</td>\n",
       "      <td>2023.0</td>\n",
       "      <td>aP (acellular pertussis) vaccine</td>\n",
       "      <td>No</td>\n",
       "    </tr>\n",
       "    <tr>\n",
       "      <th>1</th>\n",
       "      <td>AFG</td>\n",
       "      <td>Afghanistan</td>\n",
       "      <td>EMRO</td>\n",
       "      <td>2023.0</td>\n",
       "      <td>Hepatitis A vaccine</td>\n",
       "      <td>No</td>\n",
       "    </tr>\n",
       "    <tr>\n",
       "      <th>2</th>\n",
       "      <td>AFG</td>\n",
       "      <td>Afghanistan</td>\n",
       "      <td>EMRO</td>\n",
       "      <td>2023.0</td>\n",
       "      <td>Hepatitis B vaccine</td>\n",
       "      <td>Yes</td>\n",
       "    </tr>\n",
       "    <tr>\n",
       "      <th>3</th>\n",
       "      <td>AFG</td>\n",
       "      <td>Afghanistan</td>\n",
       "      <td>EMRO</td>\n",
       "      <td>2023.0</td>\n",
       "      <td>HepB birth dose</td>\n",
       "      <td>Yes</td>\n",
       "    </tr>\n",
       "    <tr>\n",
       "      <th>4</th>\n",
       "      <td>AFG</td>\n",
       "      <td>Afghanistan</td>\n",
       "      <td>EMRO</td>\n",
       "      <td>2023.0</td>\n",
       "      <td>Hib (Haemophilus influenzae type B) vaccine</td>\n",
       "      <td>Yes</td>\n",
       "    </tr>\n",
       "  </tbody>\n",
       "</table>\n",
       "</div>"
      ],
      "text/plain": [
       "  ISO_3_CODE  COUNTRYNAME WHO_REGION    YEAR  \\\n",
       "0        AFG  Afghanistan       EMRO  2023.0   \n",
       "1        AFG  Afghanistan       EMRO  2023.0   \n",
       "2        AFG  Afghanistan       EMRO  2023.0   \n",
       "3        AFG  Afghanistan       EMRO  2023.0   \n",
       "4        AFG  Afghanistan       EMRO  2023.0   \n",
       "\n",
       "                                   DESCRIPTION INTRO  \n",
       "0             aP (acellular pertussis) vaccine    No  \n",
       "1                          Hepatitis A vaccine    No  \n",
       "2                          Hepatitis B vaccine   Yes  \n",
       "3                              HepB birth dose   Yes  \n",
       "4  Hib (Haemophilus influenzae type B) vaccine   Yes  "
      ]
     },
     "execution_count": 48,
     "metadata": {},
     "output_type": "execute_result"
    }
   ],
   "source": [
    "tab4.head(5)"
   ]
  },
  {
   "cell_type": "code",
   "execution_count": 49,
   "id": "b4d866f1",
   "metadata": {},
   "outputs": [
    {
     "data": {
      "text/plain": [
       "np.int64(1)"
      ]
     },
     "execution_count": 49,
     "metadata": {},
     "output_type": "execute_result"
    }
   ],
   "source": [
    "tab4['COUNTRYNAME'].isna().sum()"
   ]
  },
  {
   "cell_type": "code",
   "execution_count": 50,
   "id": "e9053ca9",
   "metadata": {},
   "outputs": [
    {
     "data": {
      "text/plain": [
       "np.int64(1)"
      ]
     },
     "execution_count": 50,
     "metadata": {},
     "output_type": "execute_result"
    }
   ],
   "source": [
    "tab4['DESCRIPTION'].isna().sum()"
   ]
  },
  {
   "cell_type": "code",
   "execution_count": 51,
   "id": "e24b9f63",
   "metadata": {},
   "outputs": [
    {
     "data": {
      "text/plain": [
       "np.int64(1)"
      ]
     },
     "execution_count": 51,
     "metadata": {},
     "output_type": "execute_result"
    }
   ],
   "source": [
    "tab4['INTRO'].isna().sum()"
   ]
  },
  {
   "cell_type": "code",
   "execution_count": 52,
   "id": "1e3762a1",
   "metadata": {},
   "outputs": [
    {
     "data": {
      "text/plain": [
       "np.int64(0)"
      ]
     },
     "execution_count": 52,
     "metadata": {},
     "output_type": "execute_result"
    }
   ],
   "source": [
    "tab4['ISO_3_CODE'].isna().sum()"
   ]
  },
  {
   "cell_type": "code",
   "execution_count": 53,
   "id": "5ca2c568",
   "metadata": {},
   "outputs": [
    {
     "data": {
      "text/plain": [
       "np.int64(1)"
      ]
     },
     "execution_count": 53,
     "metadata": {},
     "output_type": "execute_result"
    }
   ],
   "source": [
    "tab4['WHO_REGION'].isna().sum()"
   ]
  },
  {
   "cell_type": "code",
   "execution_count": 54,
   "id": "036ca3fe",
   "metadata": {},
   "outputs": [
    {
     "data": {
      "text/plain": [
       "np.int64(1)"
      ]
     },
     "execution_count": 54,
     "metadata": {},
     "output_type": "execute_result"
    }
   ],
   "source": [
    "tab4['YEAR'].isna().sum()"
   ]
  },
  {
   "cell_type": "code",
   "execution_count": 55,
   "id": "3b3d7d26",
   "metadata": {},
   "outputs": [],
   "source": [
    "## 1. Clean and standardize column names\n",
    "tab4.rename(columns={\n",
    "    'ISO_3_CODE': 'CODE',\n",
    "    'COUNTRYNAME': 'NAME',\n",
    "    'WHO_REGION': 'WHO_REGION',\n",
    "    'YEAR': 'YEAR',\n",
    "    'DESCRIPTION': 'DESCRIPTION',\n",
    "    'INTRO': 'INTRO'\n",
    "}, inplace=True)\n",
    "\n",
    "## 2. Handling missing values and data type conversions\n",
    "tab4 = tab4.dropna()\n",
    "\n",
    "# Converting YEAR column to integer\n",
    "tab4['YEAR'] = tab4['YEAR'].astype(int)"
   ]
  },
  {
   "cell_type": "markdown",
   "id": "ea7488a7",
   "metadata": {},
   "source": [
    "##### For Table 5"
   ]
  },
  {
   "cell_type": "code",
   "execution_count": 56,
   "id": "8e41b20d",
   "metadata": {},
   "outputs": [
    {
     "data": {
      "text/plain": [
       "(8053, 12)"
      ]
     },
     "execution_count": 56,
     "metadata": {},
     "output_type": "execute_result"
    }
   ],
   "source": [
    "tab5.shape"
   ]
  },
  {
   "cell_type": "code",
   "execution_count": 57,
   "id": "bd810a53",
   "metadata": {},
   "outputs": [
    {
     "data": {
      "text/plain": [
       "np.int64(1046)"
      ]
     },
     "execution_count": 57,
     "metadata": {},
     "output_type": "execute_result"
    }
   ],
   "source": [
    "tab5['AGEADMINISTERED'].isna().sum()"
   ]
  },
  {
   "cell_type": "code",
   "execution_count": 58,
   "id": "69426911",
   "metadata": {},
   "outputs": [
    {
     "data": {
      "text/plain": [
       "AGEADMINISTERED\n",
       "M2             434\n",
       "M4             434\n",
       "1st contact    362\n",
       "M6             345\n",
       "+M6            341\n",
       "              ... \n",
       "Y8               1\n",
       "Y49              1\n",
       "Y1-Y45           1\n",
       "Y7-Y11           1\n",
       "B-M24            1\n",
       "Name: count, Length: 425, dtype: int64"
      ]
     },
     "execution_count": 58,
     "metadata": {},
     "output_type": "execute_result"
    }
   ],
   "source": [
    "tab5['AGEADMINISTERED'].value_counts()"
   ]
  },
  {
   "cell_type": "code",
   "execution_count": 59,
   "id": "c55268d1",
   "metadata": {},
   "outputs": [
    {
     "data": {
      "text/plain": [
       "np.int64(1)"
      ]
     },
     "execution_count": 59,
     "metadata": {},
     "output_type": "execute_result"
    }
   ],
   "source": [
    "tab5['COUNTRYNAME'].isna().sum()"
   ]
  },
  {
   "cell_type": "code",
   "execution_count": 60,
   "id": "bbf47f71",
   "metadata": {},
   "outputs": [
    {
     "data": {
      "text/plain": [
       "np.int64(31)"
      ]
     },
     "execution_count": 60,
     "metadata": {},
     "output_type": "execute_result"
    }
   ],
   "source": [
    "tab5['GEOAREA'].isna().sum()"
   ]
  },
  {
   "cell_type": "code",
   "execution_count": 61,
   "id": "231416f8",
   "metadata": {},
   "outputs": [
    {
     "data": {
      "text/plain": [
       "np.int64(0)"
      ]
     },
     "execution_count": 61,
     "metadata": {},
     "output_type": "execute_result"
    }
   ],
   "source": [
    "tab5['ISO_3_CODE'].isna().sum()"
   ]
  },
  {
   "cell_type": "code",
   "execution_count": 62,
   "id": "8904316f",
   "metadata": {},
   "outputs": [
    {
     "data": {
      "text/plain": [
       "np.int64(1)"
      ]
     },
     "execution_count": 62,
     "metadata": {},
     "output_type": "execute_result"
    }
   ],
   "source": [
    "tab5['SCHEDULEROUNDS'].isna().sum()"
   ]
  },
  {
   "cell_type": "code",
   "execution_count": 63,
   "id": "1fea0a88",
   "metadata": {},
   "outputs": [
    {
     "data": {
      "text/plain": [
       "np.int64(2914)"
      ]
     },
     "execution_count": 63,
     "metadata": {},
     "output_type": "execute_result"
    }
   ],
   "source": [
    "tab5['SOURCECOMMENT'].isna().sum()"
   ]
  },
  {
   "cell_type": "code",
   "execution_count": 64,
   "id": "aeec5866",
   "metadata": {},
   "outputs": [
    {
     "data": {
      "text/plain": [
       "SOURCECOMMENT\n",
       "0-11 mois                                                                                                               185\n",
       "Pregnant women                                                                                                          157\n",
       "Health and care workers                                                                                                 124\n",
       "Children with chronic conditions                                                                                         97\n",
       "0-11 months                                                                                                              91\n",
       "                                                                                                                       ... \n",
       "outrbreak response                                                                                                        1\n",
       "Girls aged 9-14 years old (in school and out of school) reached through an HPV Multi Age Cohort Vaccination Campaign      1\n",
       "and older persons 65 years and above                                                                                      1\n",
       "from May 2019                                                                                                             1\n",
       "birth - 11 months                                                                                                         1\n",
       "Name: count, Length: 1433, dtype: int64"
      ]
     },
     "execution_count": 64,
     "metadata": {},
     "output_type": "execute_result"
    }
   ],
   "source": [
    "tab5['SOURCECOMMENT'].value_counts()"
   ]
  },
  {
   "cell_type": "code",
   "execution_count": 65,
   "id": "640431b7",
   "metadata": {},
   "outputs": [
    {
     "data": {
      "text/plain": [
       "np.int64(4258)"
      ]
     },
     "execution_count": 65,
     "metadata": {},
     "output_type": "execute_result"
    }
   ],
   "source": [
    "tab5['TARGETPOP'].isna().sum()"
   ]
  },
  {
   "cell_type": "code",
   "execution_count": 66,
   "id": "0b04f93c",
   "metadata": {},
   "outputs": [
    {
     "data": {
      "text/plain": [
       "TARGETPOP\n",
       "RISKGROUPS    1247\n",
       "ADULTS         658\n",
       "PW             535\n",
       "HW             330\n",
       "TRAVELLERS     208\n",
       "B_CHILD_W      164\n",
       "FEMALE         152\n",
       "B_ADO_W        130\n",
       "B_2YL_W        125\n",
       "BOTH           124\n",
       "CATCHUP_C       84\n",
       "CATCHUP_A       19\n",
       "B_ADO_F         10\n",
       "B_2YL_F          6\n",
       "B_CHILD_F        3\n",
       "Name: count, dtype: int64"
      ]
     },
     "execution_count": 66,
     "metadata": {},
     "output_type": "execute_result"
    }
   ],
   "source": [
    "tab5['TARGETPOP'].value_counts()"
   ]
  },
  {
   "cell_type": "code",
   "execution_count": 67,
   "id": "49e3c376",
   "metadata": {},
   "outputs": [
    {
     "data": {
      "text/plain": [
       "np.int64(1)"
      ]
     },
     "execution_count": 67,
     "metadata": {},
     "output_type": "execute_result"
    }
   ],
   "source": [
    "tab5['TARGETPOP_DESCRIPTION'].isna().sum()"
   ]
  },
  {
   "cell_type": "code",
   "execution_count": 68,
   "id": "f04d1656",
   "metadata": {},
   "outputs": [
    {
     "data": {
      "text/plain": [
       "np.int64(1)"
      ]
     },
     "execution_count": 68,
     "metadata": {},
     "output_type": "execute_result"
    }
   ],
   "source": [
    "tab5['VACCINECODE'].isna().sum()"
   ]
  },
  {
   "cell_type": "code",
   "execution_count": 69,
   "id": "6e38847f",
   "metadata": {},
   "outputs": [
    {
     "data": {
      "text/plain": [
       "np.int64(1)"
      ]
     },
     "execution_count": 69,
     "metadata": {},
     "output_type": "execute_result"
    }
   ],
   "source": [
    "tab5['VACCINE_DESCRIPTION'].isna().sum()"
   ]
  },
  {
   "cell_type": "code",
   "execution_count": 70,
   "id": "1f739cae",
   "metadata": {},
   "outputs": [
    {
     "data": {
      "text/plain": [
       "np.int64(1)"
      ]
     },
     "execution_count": 70,
     "metadata": {},
     "output_type": "execute_result"
    }
   ],
   "source": [
    "tab5['WHO_REGION'].isna().sum()"
   ]
  },
  {
   "cell_type": "code",
   "execution_count": 71,
   "id": "f2a53bf8",
   "metadata": {},
   "outputs": [
    {
     "data": {
      "text/plain": [
       "np.int64(1)"
      ]
     },
     "execution_count": 71,
     "metadata": {},
     "output_type": "execute_result"
    }
   ],
   "source": [
    "tab5['YEAR'].isna().sum()"
   ]
  },
  {
   "cell_type": "code",
   "execution_count": 72,
   "id": "36d4a22f",
   "metadata": {},
   "outputs": [],
   "source": [
    "## 1. Clean and standardize column names\n",
    "tab5.rename(columns={\n",
    "    'ISO_3_CODE': 'CODE',\n",
    "    'COUNTRYNAME': 'NAME',\n",
    "    'Who Region': 'WHO_REGION',\n",
    "    'Year': 'YEAR',\n",
    "    'Vaccine code': 'VACCINECODE',\n",
    "    'Vaccine description': 'VACCINE_DESCRIPTION',\n",
    "    'Schedule rounds': 'SCHEDULEROUNDS',\n",
    "    'Target pop': 'TARGETPOP',\n",
    "    'Target pop description': 'TARGETPOP_DESCRIPTION',\n",
    "    'Geoarea': 'GEOAREA',\n",
    "    'Age administered': 'AGEADMINISTERED',\n",
    "    'Source comment': 'SOURCECOMMENT'\n",
    "}, inplace=True)\n",
    "\n",
    "## 2. Handling missing values and data type conversions\n",
    "# Droping the SOURCECOMMENT column as it has many missing values and is not critical\n",
    "# tab5 = tab5.drop(columns=['SOURCECOMMENT'], axis=1)\n",
    "\n",
    "# Imputing missing values for AGEADMINISTERED and TARGETPOP with 'Unknown'\n",
    "tab5['AGEADMINISTERED'] = tab5['AGEADMINISTERED'].fillna('Unknown')\n",
    "tab5['TARGETPOP'] = tab5['TARGETPOP'].fillna('Unknown')\n",
    "\n",
    "# Droping rows where core identifier columns have missing values\n",
    "tab5 = tab5.dropna()\n",
    "\n",
    "# Converting YEAR column to integer\n",
    "tab5['YEAR'] = tab5['YEAR'].astype(int)"
   ]
  },
  {
   "cell_type": "markdown",
   "id": "40d3e069",
   "metadata": {},
   "source": [
    "Now We need solve the problem of NAME column in table1 "
   ]
  },
  {
   "cell_type": "code",
   "execution_count": 73,
   "id": "7d584332",
   "metadata": {},
   "outputs": [],
   "source": [
    "# Concatenate all CODE and NAME pairs into one DataFrame\n",
    "all_tabs = [tab1, tab2, tab3, tab4, tab5]\n",
    "\n",
    "code_name_map_df = pd.DataFrame()\n",
    "for tab in all_tabs:\n",
    "    # Check if the required columns exist before concatenating\n",
    "    if 'CODE' in tab.columns and 'NAME' in tab.columns:\n",
    "        temp_df = tab[['CODE', 'NAME']].dropna().drop_duplicates()\n",
    "        code_name_map_df = pd.concat([code_name_map_df, temp_df])\n",
    "\n",
    "# Create a clean, final mapping with no duplicates\n",
    "code_name_map = code_name_map_df.drop_duplicates(subset=['CODE']).set_index('CODE')['NAME']\n",
    "\n",
    "# Use the comprehensive mapping to fill missing 'NAME' values in tab1\n",
    "tab1['NAME'] = tab1['CODE'].map(code_name_map).fillna(tab1['NAME'])"
   ]
  },
  {
   "cell_type": "code",
   "execution_count": 74,
   "id": "06b658cd",
   "metadata": {},
   "outputs": [
    {
     "data": {
      "text/plain": [
       "np.int64(0)"
      ]
     },
     "execution_count": 74,
     "metadata": {},
     "output_type": "execute_result"
    }
   ],
   "source": [
    "tab1['NAME'].isna().sum()"
   ]
  },
  {
   "cell_type": "markdown",
   "id": "63294362",
   "metadata": {},
   "source": [
    "As you can see in the above code cell that there are no empty rows in the NAME Column"
   ]
  },
  {
   "cell_type": "code",
   "execution_count": 75,
   "id": "7f1a7292",
   "metadata": {},
   "outputs": [
    {
     "name": "stdout",
     "output_type": "stream",
     "text": [
      "SQLAlchemy engine created successfully.\n"
     ]
    }
   ],
   "source": [
    "import pyodbc\n",
    "from sqlalchemy import create_engine\n",
    "\n",
    "def create_sql_engine():\n",
    "    try:\n",
    "        # Define the parts of your connection string\n",
    "        server = 'Mrin_2130115\\\\MySQL2002'\n",
    "        database = 'VACCINATION_PROJECT'\n",
    "        driver = 'ODBC Driver 17 for SQL Server'\n",
    "        \n",
    "        # Build the connection string using SQLAlchemy's standard URL format\n",
    "        conn_str = f\"mssql+pyodbc:///?odbc_connect=DRIVER%3D%7B{driver}%7D%3BSERVER%3D{server}%3BDATABASE%3D{database}%3BTRUSTED_CONNECTION%3Dyes%3B\"\n",
    "        \n",
    "        # Create the engine\n",
    "        engine = create_engine(conn_str)\n",
    "        print(\"SQLAlchemy engine created successfully.\")\n",
    "        return engine\n",
    "    except Exception as ex:\n",
    "        print(f\"Error creating SQLAlchemy engine: {ex}\")\n",
    "        return None\n",
    "    \n",
    "# Main execution block remains the same\n",
    "if __name__ == '__main__':\n",
    "    engine = create_sql_engine()\n",
    "    if engine:\n",
    "        # Pass the engine to your create_tables() function\n",
    "        # create_tables(engine)\n",
    "        pass"
   ]
  },
  {
   "cell_type": "markdown",
   "id": "d6f8213b",
   "metadata": {},
   "source": [
    "So Now we will create the tables and to execute the commands in SQL we will use cursor function"
   ]
  },
  {
   "cell_type": "markdown",
   "id": "695b7bc6",
   "metadata": {},
   "source": [
    "-- Create a Countries table to avoid redundancy\n",
    "CREATE TABLE Countries (\n",
    "    Code VARCHAR(3) PRIMARY KEY,\n",
    "    Name VARCHAR(100),\n",
    "    WhoRegion VARCHAR(50)\n",
    ");\n",
    "\n",
    "-- Table 1: CoverageData (references Countries table)\n",
    "CREATE TABLE CoverageData (\n",
    "    CoverageID INT PRIMARY KEY IDENTITY(1,1),\n",
    "    Code VARCHAR(3) FOREIGN KEY REFERENCES Countries(Code),\n",
    "    Year INT,\n",
    "    Antigen VARCHAR(20),\n",
    "    Antigen_description VARCHAR(100),\n",
    "    Coverage_category VARCHAR(50),\n",
    "    Coverage_category_description VARCHAR(100),\n",
    "    Target_number BIGINT,\n",
    "    Doses BIGINT,\n",
    "    Coverage FLOAT\n",
    ");\n",
    "\n",
    "-- Table 2: IncidenceRateData (references Countries table)\n",
    "CREATE TABLE IncidenceRateData (\n",
    "    IncidenceID INT PRIMARY KEY IDENTITY(1,1),\n",
    "    Code VARCHAR(3) FOREIGN KEY REFERENCES Countries(Code),\n",
    "    Year INT,\n",
    "    Disease VARCHAR(50),\n",
    "    Disease_description VARCHAR(100),\n",
    "    Incidence_rate FLOAT\n",
    ");\n",
    "\n",
    "-- Table 3: ReportedCasesData (references Countries table)\n",
    "CREATE TABLE ReportedCasesData (\n",
    "    CasesID INT PRIMARY KEY IDENTITY(1,1),\n",
    "    Code VARCHAR(3) FOREIGN KEY REFERENCES Countries(Code),\n",
    "    Year INT,\n",
    "    Disease VARCHAR(50),\n",
    "    Disease_description VARCHAR(100),\n",
    "    Cases FLOAT\n",
    ");\n",
    "\n",
    "-- Table 4: VaccineIntroduction (references Countries table)\n",
    "CREATE TABLE VaccineIntroduction (\n",
    "    IntroID INT PRIMARY KEY IDENTITY(1,1),\n",
    "    Code VARCHAR(3) FOREIGN KEY REFERENCES Countries(Code),\n",
    "    Year INT,\n",
    "    Description VARCHAR(100),\n",
    "    Intro VARCHAR(10)\n",
    ");\n",
    "\n",
    "-- Table 5: VaccineScheduleData (references Countries table)\n",
    "CREATE TABLE VaccineScheduleData (\n",
    "    ScheduleID INT PRIMARY KEY IDENTITY(1,1),\n",
    "    Code VARCHAR(3) FOREIGN KEY REFERENCES Countries(Code),\n",
    "    Year INT,\n",
    "    VaccineCode VARCHAR(50),\n",
    "    VaccineDescription VARCHAR(100),\n",
    "    ScheduleRounds FLOAT,\n",
    "    TARGETPOP VARCHAR(50),\n",
    "    TARGETPOP_DESCRIPTION VARCHAR(100),\n",
    "    GEOAREA VARCHAR(50),\n",
    "    AGEADMINISTERED VARCHAR(40)\n",
    ");"
   ]
  },
  {
   "cell_type": "code",
   "execution_count": 76,
   "id": "5344f662",
   "metadata": {},
   "outputs": [
    {
     "name": "stdout",
     "output_type": "stream",
     "text": [
      "SQLAlchemy engine created successfully.\n",
      "Error creating tables: 42000\n"
     ]
    }
   ],
   "source": [
    "def create_tables(engine):\n",
    "    \"\"\"Creates the specified tables in the SQL Server database.\"\"\"\n",
    "    # Get a raw pyodbc connection from the SQLAlchemy engine\n",
    "    conn = engine.raw_connection()\n",
    "    try:\n",
    "        with conn.cursor() as cursor:\n",
    "            # Create a Countries table to avoid redundancy\n",
    "            cursor.execute(\"\"\"\n",
    "                CREATE TABLE IF NOT EXISTS Countries (\n",
    "                    Code VARCHAR(3) PRIMARY KEY,\n",
    "                    Name VARCHAR(100),\n",
    "                    WhoRegion VARCHAR(50)\n",
    "                );\n",
    "            \"\"\")\n",
    "            print(\"Table 'Countries' created.\")\n",
    "\n",
    "            # Table 1: CoverageData (references Countries table)\n",
    "            cursor.execute(\"\"\"\n",
    "                CREATE TABLE IF NOT EXISTS CoverageData (\n",
    "                    CoverageID INT PRIMARY KEY IDENTITY(1,1),\n",
    "                    Code VARCHAR(3) FOREIGN KEY REFERENCES Countries(Code),\n",
    "                    Year INT,\n",
    "                    Antigen VARCHAR(20),\n",
    "                    Antigen_description VARCHAR(100),\n",
    "                    Coverage_category VARCHAR(50),\n",
    "                    Coverage_category_description VARCHAR(100),\n",
    "                    Target_number BIGINT,\n",
    "                    Doses BIGINT,\n",
    "                    Coverage FLOAT\n",
    "                );\n",
    "            \"\"\")\n",
    "            print(\"Table 'CoverageData' created.\")\n",
    "\n",
    "            # Table 2: IncidenceRateData (references Countries table)\n",
    "            cursor.execute(\"\"\"\n",
    "                CREATE TABLE IF NOT EXISTS IncidenceRateData (\n",
    "                    IncidenceID INT PRIMARY KEY IDENTITY(1,1),\n",
    "                    Code VARCHAR(3) FOREIGN KEY REFERENCES Countries(Code),\n",
    "                    Year INT,\n",
    "                    Disease VARCHAR(50),\n",
    "                    Disease_description VARCHAR(100),\n",
    "                    Incidence_rate FLOAT\n",
    "                );\n",
    "            \"\"\")\n",
    "            print(\"Table 'IncidenceRateData' created.\")\n",
    "\n",
    "            # Table 3: ReportedCasesData (references Countries table)\n",
    "            cursor.execute(\"\"\"\n",
    "                CREATE TABLE IF NOT EXISTS ReportedCasesData (\n",
    "                    CasesID INT PRIMARY KEY IDENTITY(1,1),\n",
    "                    Code VARCHAR(3) FOREIGN KEY REFERENCES Countries(Code),\n",
    "                    Year INT,\n",
    "                    Disease VARCHAR(50),\n",
    "                    Disease_description VARCHAR(100),\n",
    "                    Cases FLOAT\n",
    "                );\n",
    "            \"\"\")\n",
    "            print(\"Table 'ReportedCasesData' created.\")\n",
    "\n",
    "            # Table 4: VaccineIntroduction (references Countries table)\n",
    "            cursor.execute(\"\"\"\n",
    "                CREATE TABLE IF NOT EXISTS VaccineIntroduction (\n",
    "                    IntroID INT PRIMARY KEY IDENTITY(1,1),\n",
    "                    Code VARCHAR(3) FOREIGN KEY REFERENCES Countries(Code),\n",
    "                    Year INT,\n",
    "                    Description VARCHAR(100),\n",
    "                    Intro VARCHAR(10)\n",
    "                );\n",
    "            \"\"\")\n",
    "            print(\"Table 'VaccineIntroduction' created.\")\n",
    "\n",
    "            # Table 5: VaccineScheduleData (references Countries table)\n",
    "            cursor.execute(\"\"\"\n",
    "                CREATE TABLE IF NOT EXISTS VaccineScheduleData (\n",
    "                    ScheduleID INT PRIMARY KEY IDENTITY(1,1),\n",
    "                    Code VARCHAR(3) FOREIGN KEY REFERENCES Countries(Code),\n",
    "                    Year INT,\n",
    "                    VaccineCode VARCHAR(50),\n",
    "                    VaccineDescription VARCHAR(100),\n",
    "                    ScheduleRounds FLOAT,\n",
    "                    TARGETPOP VARCHAR(50),\n",
    "                    TARGETPOP_DESCRIPTION VARCHAR(100),\n",
    "                    GEOAREA VARCHAR(50),\n",
    "                    AGEADMINISTERED VARCHAR(40)\n",
    "                );\n",
    "            \"\"\")\n",
    "            print(\"Table 'VaccineScheduleData' created.\")\n",
    "\n",
    "        conn.commit()  # Make sure to commit the changes to save the tables\n",
    "        print(\"All tables created successfully.\")\n",
    "\n",
    "    except pyodbc.Error as ex:\n",
    "        sqlstate = ex.args[0]\n",
    "        print(f\"Error creating tables: {sqlstate}\")\n",
    "        conn.rollback() # Rollback in case of an error\n",
    "    finally:\n",
    "        if conn:\n",
    "            conn.close()\n",
    "\n",
    "# The main execution block also needs to be updated to pass the engine object.\n",
    "if __name__ == \"__main__\":\n",
    "    engine = create_sql_engine()\n",
    "    if engine:\n",
    "        create_tables(engine) # Pass the engine object\n",
    "    else:\n",
    "        print(\"Could not establish a database connection. Tables were not created.\")"
   ]
  },
  {
   "cell_type": "code",
   "execution_count": 79,
   "id": "ae1fb83e",
   "metadata": {},
   "outputs": [
    {
     "name": "stderr",
     "output_type": "stream",
     "text": [
      "C:\\Users\\mrinm\\AppData\\Local\\Temp\\ipykernel_16276\\874937203.py:32: FutureWarning: A value is trying to be set on a copy of a DataFrame or Series through chained assignment using an inplace method.\n",
      "The behavior will change in pandas 3.0. This inplace method will never work because the intermediate object on which we are setting values always behaves as a copy.\n",
      "\n",
      "For example, when doing 'df[col].method(value, inplace=True)', try using 'df.method({col: value}, inplace=True)' or df[col] = df[col].method(value) instead, to perform the operation inplace on the original object.\n",
      "\n",
      "\n",
      "  countries_df['WHO_REGION'].fillna('Unknown Region', inplace=True)\n"
     ]
    }
   ],
   "source": [
    "# We have to create the countries dataframe which is used as a foriegn key reference in all the tables \n",
    "\n",
    "all_tabs = [tab1, tab2, tab3, tab4, tab5]\n",
    "\n",
    "countries_df = pd.DataFrame()\n",
    "\n",
    "\n",
    "# Create a DataFrame of unique CODE and NAME from all tabs\n",
    "unique_countries = pd.concat([\n",
    "    tab1[['CODE', 'NAME']].dropna().drop_duplicates(),\n",
    "    tab2[['CODE', 'NAME']].dropna().drop_duplicates(),\n",
    "    tab3[['CODE', 'NAME']].dropna().drop_duplicates(),\n",
    "    tab4[['CODE', 'NAME']].dropna().drop_duplicates(),\n",
    "    tab5[['CODE', 'NAME']].dropna().drop_duplicates()\n",
    "]).drop_duplicates(subset=['CODE'])\n",
    "\n",
    "# Create a DataFrame of CODE and WHO_REGION from the tables that have this data\n",
    "who_regions = pd.concat([\n",
    "    tab4[['CODE', 'WHO_REGION']].dropna().drop_duplicates(),\n",
    "    tab5[['CODE', 'WHO_REGION']].dropna().drop_duplicates()\n",
    "]).drop_duplicates(subset=['CODE'])\n",
    "\n",
    "# Merge the two DataFrames to create the final countries_df\n",
    "countries_df = pd.merge(\n",
    "    unique_countries,\n",
    "    who_regions,\n",
    "    on='CODE',\n",
    "    how='left'\n",
    ")\n",
    "\n",
    "# Fill any remaining missing WHO_REGION values\n",
    "countries_df['WHO_REGION'].fillna('Unknown Region', inplace=True)\n",
    "\n",
    "\n",
    "for tab in all_tabs:\n",
    "    # Checking for required columns and concatenate\n",
    "    if 'CODE' in tab.columns and 'NAME' in tab.columns and 'WHO_REGION' in tab.columns:\n",
    "        temp_df = tab[['CODE', 'NAME', 'WHO_REGION']].dropna().drop_duplicates()\n",
    "        countries_df = pd.concat([countries_df, temp_df], ignore_index=True)\n",
    "    elif 'CODE' in tab.columns and 'NAME' in tab.columns:\n",
    "        temp_df = tab[['CODE', 'NAME']].dropna().drop_duplicates()\n",
    "        countries_df = pd.concat([countries_df, temp_df], ignore_index=True)\n",
    "\n",
    "# This is the crucial step to ensure the 'CODE' column has no duplicates\n",
    "countries_df.drop_duplicates(subset=['CODE'], keep='first', inplace=True)\n",
    "\n",
    "final_tabs = [countries_df, tab1, tab2, tab3, tab4, tab5]\n"
   ]
  },
  {
   "cell_type": "code",
   "execution_count": 80,
   "id": "04f6bd14",
   "metadata": {},
   "outputs": [
    {
     "name": "stdout",
     "output_type": "stream",
     "text": [
      "SQLAlchemy engine created successfully.\n",
      "Data inserted into 'Countries' table successfully.\n",
      "Data inserted into 'CoverageData' table successfully.\n",
      "Data inserted into 'IncidenceRateData' table successfully.\n",
      "Data inserted into 'ReportedCasesData' table successfully.\n",
      "Data inserted into 'VaccineIntroduction' table successfully.\n",
      "Data inserted into 'VaccineScheduleData' table successfully.\n"
     ]
    }
   ],
   "source": [
    "def insert_into_tables(engine,tabs):\n",
    "    \"\"\"Inserts data from pandas DataFrames into SQL Server tables.\"\"\"\n",
    "    try:\n",
    "        (countries_df, cleaned_coverage_df, cleaned_incidence_df,\n",
    "         cleaned_reported_cases_df, cleaned_vaccine_intro_df,\n",
    "         cleaned_vaccine_schedule_df) = tabs\n",
    "        \n",
    "        \n",
    "        countries_df.to_sql('Countries', engine, if_exists='append', index=False)\n",
    "        print(\"Data inserted into 'Countries' table successfully.\")\n",
    "\n",
    "        # Insert into other tables\n",
    "        cleaned_coverage_df.to_sql('CoverageData', engine, if_exists='append', index=False)\n",
    "        print(\"Data inserted into 'CoverageData' table successfully.\")\n",
    "        \n",
    "        cleaned_incidence_df.to_sql('IncidenceRateData', engine, if_exists='append', index=False)\n",
    "        print(\"Data inserted into 'IncidenceRateData' table successfully.\")\n",
    "\n",
    "        cleaned_reported_cases_df.to_sql('ReportedCasesData', engine, if_exists='append', index=False)\n",
    "        print(\"Data inserted into 'ReportedCasesData' table successfully.\")\n",
    "        \n",
    "        cleaned_vaccine_intro_df.to_sql('VaccineIntroduction', engine, if_exists='append', index=False)\n",
    "        print(\"Data inserted into 'VaccineIntroduction' table successfully.\")\n",
    "\n",
    "        cleaned_vaccine_schedule_df.to_sql('VaccineScheduleData', engine, if_exists='append', index=False)\n",
    "        print(\"Data inserted into 'VaccineScheduleData' table successfully.\")\n",
    "\n",
    "\n",
    "    except Exception as e:\n",
    "        print(f\"An error occurred during data insertion: {e}\")\n",
    "\n",
    "    finally:\n",
    "        if engine: \n",
    "            engine.dispose()  # Close all open Connections\n",
    "\n",
    "\n",
    "if __name__ == '__main__':\n",
    "    try:\n",
    "        engine = create_sql_engine()\n",
    "        if engine:\n",
    "            insert_into_tables(engine,final_tabs)\n",
    "        else:\n",
    "            print(\"Could not establish a database connection. Data insertion failed.\")\n",
    "    except FileNotFoundError:\n",
    "        print(\"Error: One or more data files were not found. Please check file paths.\")"
   ]
  }
 ],
 "metadata": {
  "kernelspec": {
   "display_name": "vaccine",
   "language": "python",
   "name": "python3"
  },
  "language_info": {
   "codemirror_mode": {
    "name": "ipython",
    "version": 3
   },
   "file_extension": ".py",
   "mimetype": "text/x-python",
   "name": "python",
   "nbconvert_exporter": "python",
   "pygments_lexer": "ipython3",
   "version": "3.12.11"
  }
 },
 "nbformat": 4,
 "nbformat_minor": 5
}
